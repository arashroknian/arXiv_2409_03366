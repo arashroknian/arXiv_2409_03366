{
 "cells": [
  {
   "cell_type": "code",
   "execution_count": 1,
   "id": "3ef928ee",
   "metadata": {},
   "outputs": [],
   "source": [
    "import numpy as np\n",
    "import scipy\n",
    "import scipy.sparse as sps\n",
    "import porepy as pp\n",
    "\n",
    "import ddf.common as co\n",
    "import ddf.hrl as hrl\n",
    "from ddf.dks import DKS\n",
    "\n",
    "from ddf.plot import quiver, plot_cells, streamplot\n",
    "from ddf.immagini import *\n",
    "\n",
    "from tabulate import tabulate\n",
    "import pickle\n",
    "import gc"
   ]
  },
  {
   "cell_type": "code",
   "execution_count": 2,
   "id": "55d28272",
   "metadata": {},
   "outputs": [],
   "source": [
    "pbs = {}\n",
    "gbs = {}\n",
    "\n",
    "eigs = {}\n",
    "gigs = {}\n",
    "\n",
    "def run(nome, vg15_kwargs, eig_kwargs={}, dati_kwargs={}):\n",
    "    print(nome, end=' ')\n",
    "\n",
    "    imp = dict(cartella='../simulazioni/eig_vg15', nome=nome, parla=4, campi_post=[])\n",
    "    pb = co.pkl(imp)\n",
    "\n",
    "    vg15_kwargs = dict(tipo_griglia='quadrata') | vg15_kwargs\n",
    "    eig_kwargs = dict(post=1, k=8) | eig_kwargs\n",
    "    \n",
    "    if pb is None:\n",
    "        print('s')\n",
    "        mdg, dati = hrl.vg15(**vg15_kwargs)\n",
    "        dati = dati | dati_kwargs\n",
    "        pb = hrl.HRL(mdg, dati, imp)\n",
    "        pb.init()\n",
    "        pb.steady_state()\n",
    "        pb.esporta(stato=1, pkl=1)\n",
    "    \n",
    "    if not hasattr(pb, '_eig'):\n",
    "        print('e')\n",
    "        eig = pb.eig(**eig_kwargs)\n",
    "        print(f'({eig.matvec_count}) ', eig.vals)\n",
    "        pb.esporta(stato=1, pkl=1)\n",
    "\n",
    "    return pb"
   ]
  },
  {
   "cell_type": "code",
   "execution_count": 3,
   "id": "e2bf171e",
   "metadata": {},
   "outputs": [],
   "source": [
    "# figura = '9a'; lettera = 'C_'; nome = f'{figura}{lettera}'\n",
    "# pb = run(nome, dict(figura=figura, lettera=lettera, grid_scale=2.50), dict(ks=1, tol=1e-15, k=8));"
   ]
  },
  {
   "cell_type": "code",
   "execution_count": 4,
   "id": "4bd18e33",
   "metadata": {},
   "outputs": [
    {
     "name": "stdout",
     "output_type": "stream",
     "text": [
      "5Ag s\n",
      "0.00: (0) sol: [   0.312    0.986        0        0] theta: 0.0\n",
      "0.00: (1) sol: [   0.312    0.986  3.2e-08 2.46e-06]  inc: [6.38e-05 1.29e-06  3.2e-08 2.46e-06]\n",
      "0.00: (2) sol: [   0.312    0.986  3.2e-08 2.46e-06]  inc: [5.36e-09 1.46e-09 2.13e-10  4.4e-11]\n",
      "\n",
      "e\n"
     ]
    },
    {
     "ename": "KeyboardInterrupt",
     "evalue": "",
     "output_type": "error",
     "traceback": [
      "\u001b[1;31m---------------------------------------------------------------------------\u001b[0m",
      "\u001b[1;31mKeyboardInterrupt\u001b[0m                         Traceback (most recent call last)",
      "Cell \u001b[1;32mIn[4], line 7\u001b[0m\n\u001b[0;32m      5\u001b[0m \u001b[38;5;28;01mfor\u001b[39;00m lettera \u001b[38;5;129;01min\u001b[39;00m [\u001b[38;5;124m'\u001b[39m\u001b[38;5;124mA\u001b[39m\u001b[38;5;124m'\u001b[39m, \u001b[38;5;124m'\u001b[39m\u001b[38;5;124mB\u001b[39m\u001b[38;5;124m'\u001b[39m, \u001b[38;5;124m'\u001b[39m\u001b[38;5;124mC\u001b[39m\u001b[38;5;124m'\u001b[39m]:\n\u001b[0;32m      6\u001b[0m     nome \u001b[38;5;241m=\u001b[39m \u001b[38;5;124mf\u001b[39m\u001b[38;5;124m'\u001b[39m\u001b[38;5;124m5\u001b[39m\u001b[38;5;132;01m{\u001b[39;00mlettera\u001b[38;5;132;01m}\u001b[39;00m\u001b[38;5;124m'\u001b[39m; gome \u001b[38;5;241m=\u001b[39m nome \u001b[38;5;241m+\u001b[39m \u001b[38;5;124m'\u001b[39m\u001b[38;5;124mg\u001b[39m\u001b[38;5;124m'\u001b[39m\n\u001b[1;32m----> 7\u001b[0m     gbs[nome] \u001b[38;5;241m=\u001b[39m run(gome, \u001b[38;5;28mdict\u001b[39m(figura\u001b[38;5;241m=\u001b[39m\u001b[38;5;124m'\u001b[39m\u001b[38;5;124m5\u001b[39m\u001b[38;5;124m'\u001b[39m, lettera\u001b[38;5;241m=\u001b[39mlettera, grid_scale\u001b[38;5;241m=\u001b[39m\u001b[38;5;241m1.75\u001b[39m), \u001b[38;5;28mdict\u001b[39m(ks\u001b[38;5;241m=\u001b[39m\u001b[38;5;241m1\u001b[39m, tol\u001b[38;5;241m=\u001b[39m\u001b[38;5;241m1e-15\u001b[39m));\n\u001b[0;32m      8\u001b[0m     pbs[nome] \u001b[38;5;241m=\u001b[39m run(nome, \u001b[38;5;28mdict\u001b[39m(figura\u001b[38;5;241m=\u001b[39m\u001b[38;5;124m'\u001b[39m\u001b[38;5;124m5\u001b[39m\u001b[38;5;124m'\u001b[39m, lettera\u001b[38;5;241m=\u001b[39mlettera, grid_scale\u001b[38;5;241m=\u001b[39m\u001b[38;5;241m3.00\u001b[39m), \u001b[38;5;28mdict\u001b[39m(ks\u001b[38;5;241m=\u001b[39m\u001b[38;5;241m1\u001b[39m, tol\u001b[38;5;241m=\u001b[39m\u001b[38;5;241m1e-15\u001b[39m));\n\u001b[0;32m      9\u001b[0m     eigs[nome] \u001b[38;5;241m=\u001b[39m co\u001b[38;5;241m.\u001b[39mpkl(\u001b[38;5;28mdict\u001b[39m(cartella\u001b[38;5;241m=\u001b[39m\u001b[38;5;124m'\u001b[39m\u001b[38;5;124m../simulazioni/eig_vg15\u001b[39m\u001b[38;5;124m'\u001b[39m, nome\u001b[38;5;241m=\u001b[39mnome), eig\u001b[38;5;241m=\u001b[39m\u001b[38;5;241m1\u001b[39m)\n",
      "Cell \u001b[1;32mIn[2], line 27\u001b[0m, in \u001b[0;36mrun\u001b[1;34m(nome, vg15_kwargs, eig_kwargs, dati_kwargs)\u001b[0m\n\u001b[0;32m     25\u001b[0m \u001b[38;5;28;01mif\u001b[39;00m \u001b[38;5;129;01mnot\u001b[39;00m \u001b[38;5;28mhasattr\u001b[39m(pb, \u001b[38;5;124m'\u001b[39m\u001b[38;5;124m_eig\u001b[39m\u001b[38;5;124m'\u001b[39m):\n\u001b[0;32m     26\u001b[0m     \u001b[38;5;28mprint\u001b[39m(\u001b[38;5;124m'\u001b[39m\u001b[38;5;124me\u001b[39m\u001b[38;5;124m'\u001b[39m)\n\u001b[1;32m---> 27\u001b[0m     eig \u001b[38;5;241m=\u001b[39m pb\u001b[38;5;241m.\u001b[39meig(\u001b[38;5;241m*\u001b[39m\u001b[38;5;241m*\u001b[39meig_kwargs)\n\u001b[0;32m     28\u001b[0m     \u001b[38;5;28mprint\u001b[39m(\u001b[38;5;124mf\u001b[39m\u001b[38;5;124m'\u001b[39m\u001b[38;5;124m(\u001b[39m\u001b[38;5;132;01m{\u001b[39;00meig\u001b[38;5;241m.\u001b[39mmatvec_count\u001b[38;5;132;01m}\u001b[39;00m\u001b[38;5;124m) \u001b[39m\u001b[38;5;124m'\u001b[39m, eig\u001b[38;5;241m.\u001b[39mvals)\n\u001b[0;32m     29\u001b[0m     pb\u001b[38;5;241m.\u001b[39mesporta(stato\u001b[38;5;241m=\u001b[39m\u001b[38;5;241m1\u001b[39m, pkl\u001b[38;5;241m=\u001b[39m\u001b[38;5;241m1\u001b[39m)\n",
      "File \u001b[1;32mC:\\SET.IIT\\V\\p\\ddf_p\\ddf_p\\ddf\\qddf.py:387\u001b[0m, in \u001b[0;36mDDF.eig\u001b[1;34m(self, k, which, tol, post, ks, **kwargs)\u001b[0m\n\u001b[0;32m    386\u001b[0m \u001b[38;5;28;01mdef\u001b[39;00m \u001b[38;5;21meig\u001b[39m(\u001b[38;5;28mself\u001b[39m, k\u001b[38;5;241m=\u001b[39m\u001b[38;5;241m3\u001b[39m, which\u001b[38;5;241m=\u001b[39m\u001b[38;5;124m'\u001b[39m\u001b[38;5;124mLR\u001b[39m\u001b[38;5;124m'\u001b[39m, tol\u001b[38;5;241m=\u001b[39m\u001b[38;5;241m0.01\u001b[39m, post\u001b[38;5;241m=\u001b[39m\u001b[38;5;241m1\u001b[39m, ks\u001b[38;5;241m=\u001b[39m\u001b[38;5;241m0\u001b[39m, \u001b[38;5;241m*\u001b[39m\u001b[38;5;241m*\u001b[39mkwargs):\n\u001b[1;32m--> 387\u001b[0m     ops \u001b[38;5;241m=\u001b[39m \u001b[38;5;28mself\u001b[39m\u001b[38;5;241m.\u001b[39meig_ops()\n\u001b[0;32m    388\u001b[0m     M, S \u001b[38;5;241m=\u001b[39m ops\u001b[38;5;241m.\u001b[39mM, ops\u001b[38;5;241m.\u001b[39mS_op()\n\u001b[0;32m    390\u001b[0m     \u001b[38;5;28;01mif\u001b[39;00m ks \u001b[38;5;241m==\u001b[39m \u001b[38;5;241m0\u001b[39m:\n",
      "File \u001b[1;32mC:\\SET.IIT\\V\\p\\ddf_p\\ddf_p\\ddf\\qddf.py:379\u001b[0m, in \u001b[0;36mDDF.eig_ops\u001b[1;34m(self)\u001b[0m\n\u001b[0;32m    377\u001b[0m \u001b[38;5;28;01massert\u001b[39;00m np\u001b[38;5;241m.\u001b[39mall(\u001b[38;5;28mself\u001b[39m\u001b[38;5;241m.\u001b[39mstato() \u001b[38;5;241m==\u001b[39m \u001b[38;5;28mself\u001b[39m\u001b[38;5;241m.\u001b[39m_ultimo_steady_state) \u001b[38;5;66;03m# gli autovalori si calcolano solo attorno a uno steady state!\u001b[39;00m\n\u001b[0;32m    378\u001b[0m \u001b[38;5;28;01massert\u001b[39;00m \u001b[38;5;28mself\u001b[39m\u001b[38;5;241m.\u001b[39mdati\u001b[38;5;241m.\u001b[39mget(\u001b[38;5;124m'\u001b[39m\u001b[38;5;124mboussinesq\u001b[39m\u001b[38;5;124m'\u001b[39m, \u001b[38;5;241m1\u001b[39m) \u001b[38;5;241m==\u001b[39m \u001b[38;5;241m1\u001b[39m \u001b[38;5;66;03m# il metodo agli autovalori funziona solo con l'approssimazione di boussinesq\u001b[39;00m\n\u001b[1;32m--> 379\u001b[0m J,_ \u001b[38;5;241m=\u001b[39m \u001b[38;5;28mself\u001b[39m\u001b[38;5;241m.\u001b[39msistema_lineare()\n\u001b[0;32m    380\u001b[0m \u001b[38;5;28;01mreturn\u001b[39;00m EigOps(J, \u001b[38;5;28mself\u001b[39m\u001b[38;5;241m.\u001b[39m_M, \u001b[38;5;28mself\u001b[39m\u001b[38;5;241m.\u001b[39meq_dof, \u001b[38;5;28mself\u001b[39m\u001b[38;5;241m.\u001b[39mdof)\n",
      "File \u001b[1;32mC:\\SET.IIT\\V\\p\\ddf_p\\ddf_p\\ddf\\qddf.py:334\u001b[0m, in \u001b[0;36mDDF.sistema_lineare\u001b[1;34m(self)\u001b[0m\n\u001b[0;32m    331\u001b[0m     \u001b[38;5;28mself\u001b[39m\u001b[38;5;241m.\u001b[39m_M \u001b[38;5;241m=\u001b[39m \u001b[38;5;28mself\u001b[39m\u001b[38;5;241m.\u001b[39mmassa\u001b[38;5;241m.\u001b[39mmass\u001b[38;5;241m.\u001b[39mevaluate(\u001b[38;5;28mself\u001b[39m\u001b[38;5;241m.\u001b[39mdof_manager)\n\u001b[0;32m    332\u001b[0m     \u001b[38;5;28mself\u001b[39m\u001b[38;5;241m.\u001b[39meq_dof \u001b[38;5;241m=\u001b[39m co\u001b[38;5;241m.\u001b[39mricava_eq_dof(\u001b[38;5;28mself\u001b[39m\u001b[38;5;241m.\u001b[39mdof_manager, \u001b[38;5;28mself\u001b[39m\u001b[38;5;241m.\u001b[39meq_manager)\n\u001b[1;32m--> 334\u001b[0m A, b \u001b[38;5;241m=\u001b[39m \u001b[38;5;28mself\u001b[39m\u001b[38;5;241m.\u001b[39meq_manager\u001b[38;5;241m.\u001b[39massemble()\n\u001b[0;32m    335\u001b[0m \u001b[38;5;28;01mreturn\u001b[39;00m A, b\n",
      "File \u001b[1;32mc:\\set.iit\\v\\p\\ddf_p\\ddf_p\\porepy\\src\\porepy\\numerics\\ad\\equation_manager.py:227\u001b[0m, in \u001b[0;36mEquationManager.assemble\u001b[1;34m(self, state)\u001b[0m\n\u001b[0;32m    225\u001b[0m \u001b[38;5;66;03m# Iterate over equations, assemble.\u001b[39;00m\n\u001b[0;32m    226\u001b[0m \u001b[38;5;28;01mfor\u001b[39;00m eq \u001b[38;5;129;01min\u001b[39;00m \u001b[38;5;28mself\u001b[39m\u001b[38;5;241m.\u001b[39mequations\u001b[38;5;241m.\u001b[39mvalues():\n\u001b[1;32m--> 227\u001b[0m     ad \u001b[38;5;241m=\u001b[39m eq\u001b[38;5;241m.\u001b[39mevaluate(\u001b[38;5;28mself\u001b[39m\u001b[38;5;241m.\u001b[39mdof_manager, state)\n\u001b[0;32m    228\u001b[0m     \u001b[38;5;66;03m# Append matrix and rhs\u001b[39;00m\n\u001b[0;32m    229\u001b[0m     mat\u001b[38;5;241m.\u001b[39mappend(ad\u001b[38;5;241m.\u001b[39mjac)\n",
      "File \u001b[1;32mc:\\set.iit\\v\\p\\ddf_p\\ddf_p\\porepy\\src\\porepy\\numerics\\ad\\operators.py:763\u001b[0m, in \u001b[0;36mOperator.evaluate\u001b[1;34m(self, dof_manager, state)\u001b[0m\n\u001b[0;32m    757\u001b[0m \u001b[38;5;28mself\u001b[39m\u001b[38;5;241m.\u001b[39m_prev_vals \u001b[38;5;241m=\u001b[39m {\n\u001b[0;32m    758\u001b[0m     var_id: val \u001b[38;5;28;01mfor\u001b[39;00m (var_id, val) \u001b[38;5;129;01min\u001b[39;00m \u001b[38;5;28mzip\u001b[39m(\u001b[38;5;28mself\u001b[39m\u001b[38;5;241m.\u001b[39m_prev_time_ids, prev_vals_list)\n\u001b[0;32m    759\u001b[0m }\n\u001b[0;32m    761\u001b[0m \u001b[38;5;66;03m# Parse operators. This is left to a separate function to facilitate the\u001b[39;00m\n\u001b[0;32m    762\u001b[0m \u001b[38;5;66;03m# necessary recursion for complex operators.\u001b[39;00m\n\u001b[1;32m--> 763\u001b[0m eq \u001b[38;5;241m=\u001b[39m \u001b[38;5;28mself\u001b[39m\u001b[38;5;241m.\u001b[39m_parse_operator(\u001b[38;5;28mself\u001b[39m, mdg)\n\u001b[0;32m    765\u001b[0m \u001b[38;5;28;01mreturn\u001b[39;00m eq\n",
      "File \u001b[1;32mc:\\set.iit\\v\\p\\ddf_p\\ddf_p\\porepy\\src\\porepy\\numerics\\ad\\operators.py:312\u001b[0m, in \u001b[0;36mOperator._parse_operator\u001b[1;34m(self, op, mdg)\u001b[0m\n\u001b[0;32m    310\u001b[0m \u001b[38;5;66;03m# This is not an atomic operator. First parse its children, then combine them\u001b[39;00m\n\u001b[0;32m    311\u001b[0m tree \u001b[38;5;241m=\u001b[39m op\u001b[38;5;241m.\u001b[39mtree\n\u001b[1;32m--> 312\u001b[0m results \u001b[38;5;241m=\u001b[39m [\u001b[38;5;28mself\u001b[39m\u001b[38;5;241m.\u001b[39m_parse_operator(child, mdg) \u001b[38;5;28;01mfor\u001b[39;00m child \u001b[38;5;129;01min\u001b[39;00m tree\u001b[38;5;241m.\u001b[39mchildren]\n\u001b[0;32m    314\u001b[0m \u001b[38;5;66;03m# Combine the results\u001b[39;00m\n\u001b[0;32m    315\u001b[0m \u001b[38;5;28;01mif\u001b[39;00m tree\u001b[38;5;241m.\u001b[39mop \u001b[38;5;241m==\u001b[39m Operation\u001b[38;5;241m.\u001b[39madd:\n\u001b[0;32m    316\u001b[0m     \u001b[38;5;66;03m# To add we need two objects\u001b[39;00m\n",
      "File \u001b[1;32mc:\\set.iit\\v\\p\\ddf_p\\ddf_p\\porepy\\src\\porepy\\numerics\\ad\\operators.py:312\u001b[0m, in \u001b[0;36mOperator._parse_operator\u001b[1;34m(self, op, mdg)\u001b[0m\n\u001b[0;32m    310\u001b[0m \u001b[38;5;66;03m# This is not an atomic operator. First parse its children, then combine them\u001b[39;00m\n\u001b[0;32m    311\u001b[0m tree \u001b[38;5;241m=\u001b[39m op\u001b[38;5;241m.\u001b[39mtree\n\u001b[1;32m--> 312\u001b[0m results \u001b[38;5;241m=\u001b[39m [\u001b[38;5;28mself\u001b[39m\u001b[38;5;241m.\u001b[39m_parse_operator(child, mdg) \u001b[38;5;28;01mfor\u001b[39;00m child \u001b[38;5;129;01min\u001b[39;00m tree\u001b[38;5;241m.\u001b[39mchildren]\n\u001b[0;32m    314\u001b[0m \u001b[38;5;66;03m# Combine the results\u001b[39;00m\n\u001b[0;32m    315\u001b[0m \u001b[38;5;28;01mif\u001b[39;00m tree\u001b[38;5;241m.\u001b[39mop \u001b[38;5;241m==\u001b[39m Operation\u001b[38;5;241m.\u001b[39madd:\n\u001b[0;32m    316\u001b[0m     \u001b[38;5;66;03m# To add we need two objects\u001b[39;00m\n",
      "    \u001b[1;31m[... skipping similar frames: Operator._parse_operator at line 312 (11 times)]\u001b[0m\n",
      "File \u001b[1;32mc:\\set.iit\\v\\p\\ddf_p\\ddf_p\\porepy\\src\\porepy\\numerics\\ad\\operators.py:312\u001b[0m, in \u001b[0;36mOperator._parse_operator\u001b[1;34m(self, op, mdg)\u001b[0m\n\u001b[0;32m    310\u001b[0m \u001b[38;5;66;03m# This is not an atomic operator. First parse its children, then combine them\u001b[39;00m\n\u001b[0;32m    311\u001b[0m tree \u001b[38;5;241m=\u001b[39m op\u001b[38;5;241m.\u001b[39mtree\n\u001b[1;32m--> 312\u001b[0m results \u001b[38;5;241m=\u001b[39m [\u001b[38;5;28mself\u001b[39m\u001b[38;5;241m.\u001b[39m_parse_operator(child, mdg) \u001b[38;5;28;01mfor\u001b[39;00m child \u001b[38;5;129;01min\u001b[39;00m tree\u001b[38;5;241m.\u001b[39mchildren]\n\u001b[0;32m    314\u001b[0m \u001b[38;5;66;03m# Combine the results\u001b[39;00m\n\u001b[0;32m    315\u001b[0m \u001b[38;5;28;01mif\u001b[39;00m tree\u001b[38;5;241m.\u001b[39mop \u001b[38;5;241m==\u001b[39m Operation\u001b[38;5;241m.\u001b[39madd:\n\u001b[0;32m    316\u001b[0m     \u001b[38;5;66;03m# To add we need two objects\u001b[39;00m\n",
      "File \u001b[1;32mc:\\set.iit\\v\\p\\ddf_p\\ddf_p\\porepy\\src\\porepy\\numerics\\ad\\operators.py:308\u001b[0m, in \u001b[0;36mOperator._parse_operator\u001b[1;34m(self, op, mdg)\u001b[0m\n\u001b[0;32m    303\u001b[0m     \u001b[38;5;28;01mreturn\u001b[39;00m op\n\u001b[0;32m    305\u001b[0m \u001b[38;5;28;01melif\u001b[39;00m op\u001b[38;5;241m.\u001b[39mis_leaf():\n\u001b[0;32m    306\u001b[0m     \u001b[38;5;66;03m# Case 2\u001b[39;00m\n\u001b[0;32m    307\u001b[0m     \u001b[38;5;66;03m# EK: Is this correct after moving from Expression?\u001b[39;00m\n\u001b[1;32m--> 308\u001b[0m     \u001b[38;5;28;01mreturn\u001b[39;00m op\u001b[38;5;241m.\u001b[39mparse(mdg)  \u001b[38;5;66;03m# type:ignore\u001b[39;00m\n\u001b[0;32m    310\u001b[0m \u001b[38;5;66;03m# This is not an atomic operator. First parse its children, then combine them\u001b[39;00m\n\u001b[0;32m    311\u001b[0m tree \u001b[38;5;241m=\u001b[39m op\u001b[38;5;241m.\u001b[39mtree\n",
      "File \u001b[1;32mc:\\set.iit\\v\\p\\ddf_p\\ddf_p\\porepy\\src\\porepy\\numerics\\ad\\_ad_utils.py:299\u001b[0m, in \u001b[0;36mMergedOperator.parse\u001b[1;34m(self, mdg)\u001b[0m\n\u001b[0;32m    296\u001b[0m         \u001b[38;5;28;01mraise\u001b[39;00m \u001b[38;5;167;01mNotImplementedError\u001b[39;00m(\u001b[38;5;124m\"\u001b[39m\u001b[38;5;124m\"\u001b[39m)\n\u001b[0;32m    297\u001b[0m \u001b[38;5;28;01melse\u001b[39;00m:\n\u001b[0;32m    298\u001b[0m     \u001b[38;5;66;03m# This is a standard term; wrap it in a diagonal sparse matrix\u001b[39;00m\n\u001b[1;32m--> 299\u001b[0m     \u001b[38;5;28;01mreturn\u001b[39;00m sps\u001b[38;5;241m.\u001b[39mblock_diag(mat, \u001b[38;5;28mformat\u001b[39m\u001b[38;5;241m=\u001b[39m\u001b[38;5;124m\"\u001b[39m\u001b[38;5;124mcsr\u001b[39m\u001b[38;5;124m\"\u001b[39m)\n",
      "File \u001b[1;32m~\\AppData\\Local\\miniconda3\\envs\\ddf\\Lib\\site-packages\\scipy\\sparse\\_construct.py:1057\u001b[0m, in \u001b[0;36mblock_diag\u001b[1;34m(mats, format, dtype)\u001b[0m\n\u001b[0;32m   1055\u001b[0m     a \u001b[38;5;241m=\u001b[39m coo_array(np\u001b[38;5;241m.\u001b[39matleast_2d(a))\n\u001b[0;32m   1056\u001b[0m \u001b[38;5;28;01mif\u001b[39;00m issparse(a):\n\u001b[1;32m-> 1057\u001b[0m     a \u001b[38;5;241m=\u001b[39m a\u001b[38;5;241m.\u001b[39mtocoo()\n\u001b[0;32m   1058\u001b[0m     nrows, ncols \u001b[38;5;241m=\u001b[39m a\u001b[38;5;241m.\u001b[39m_shape_as_2d\n\u001b[0;32m   1059\u001b[0m     row\u001b[38;5;241m.\u001b[39mappend(a\u001b[38;5;241m.\u001b[39mrow \u001b[38;5;241m+\u001b[39m r_idx)\n",
      "File \u001b[1;32m~\\AppData\\Local\\miniconda3\\envs\\ddf\\Lib\\site-packages\\scipy\\sparse\\_compressed.py:1172\u001b[0m, in \u001b[0;36m_cs_matrix.tocoo\u001b[1;34m(self, copy)\u001b[0m\n\u001b[0;32m   1169\u001b[0m _sparsetools\u001b[38;5;241m.\u001b[39mexpandptr(major_dim, \u001b[38;5;28mself\u001b[39m\u001b[38;5;241m.\u001b[39mindptr, major_indices)\n\u001b[0;32m   1170\u001b[0m coords \u001b[38;5;241m=\u001b[39m \u001b[38;5;28mself\u001b[39m\u001b[38;5;241m.\u001b[39m_swap((major_indices, minor_indices))\n\u001b[1;32m-> 1172\u001b[0m \u001b[38;5;28;01mreturn\u001b[39;00m \u001b[38;5;28mself\u001b[39m\u001b[38;5;241m.\u001b[39m_coo_container(\n\u001b[0;32m   1173\u001b[0m     (\u001b[38;5;28mself\u001b[39m\u001b[38;5;241m.\u001b[39mdata, coords), \u001b[38;5;28mself\u001b[39m\u001b[38;5;241m.\u001b[39mshape, copy\u001b[38;5;241m=\u001b[39mcopy, dtype\u001b[38;5;241m=\u001b[39m\u001b[38;5;28mself\u001b[39m\u001b[38;5;241m.\u001b[39mdtype\n\u001b[0;32m   1174\u001b[0m )\n",
      "File \u001b[1;32m~\\AppData\\Local\\miniconda3\\envs\\ddf\\Lib\\site-packages\\scipy\\sparse\\_coo.py:61\u001b[0m, in \u001b[0;36m_coo_base.__init__\u001b[1;34m(self, arg1, shape, dtype, copy)\u001b[0m\n\u001b[0;32m     56\u001b[0m         idx_dtype \u001b[38;5;241m=\u001b[39m \u001b[38;5;28mself\u001b[39m\u001b[38;5;241m.\u001b[39m_get_index_dtype(coords,\n\u001b[0;32m     57\u001b[0m                                           maxval\u001b[38;5;241m=\u001b[39m\u001b[38;5;28mmax\u001b[39m(\u001b[38;5;28mself\u001b[39m\u001b[38;5;241m.\u001b[39mshape),\n\u001b[0;32m     58\u001b[0m                                           check_contents\u001b[38;5;241m=\u001b[39m\u001b[38;5;28;01mTrue\u001b[39;00m)\n\u001b[0;32m     59\u001b[0m         \u001b[38;5;28mself\u001b[39m\u001b[38;5;241m.\u001b[39mcoords \u001b[38;5;241m=\u001b[39m \u001b[38;5;28mtuple\u001b[39m(np\u001b[38;5;241m.\u001b[39marray(idx, copy\u001b[38;5;241m=\u001b[39mcopy, dtype\u001b[38;5;241m=\u001b[39midx_dtype)\n\u001b[0;32m     60\u001b[0m                              \u001b[38;5;28;01mfor\u001b[39;00m idx \u001b[38;5;129;01min\u001b[39;00m coords)\n\u001b[1;32m---> 61\u001b[0m         \u001b[38;5;28mself\u001b[39m\u001b[38;5;241m.\u001b[39mdata \u001b[38;5;241m=\u001b[39m getdata(obj, copy\u001b[38;5;241m=\u001b[39mcopy, dtype\u001b[38;5;241m=\u001b[39mdtype)\n\u001b[0;32m     62\u001b[0m         \u001b[38;5;28mself\u001b[39m\u001b[38;5;241m.\u001b[39mhas_canonical_format \u001b[38;5;241m=\u001b[39m \u001b[38;5;28;01mFalse\u001b[39;00m\n\u001b[0;32m     63\u001b[0m \u001b[38;5;28;01melse\u001b[39;00m:\n",
      "File \u001b[1;32m~\\AppData\\Local\\miniconda3\\envs\\ddf\\Lib\\site-packages\\scipy\\sparse\\_sputils.py:142\u001b[0m, in \u001b[0;36mgetdata\u001b[1;34m(obj, dtype, copy)\u001b[0m\n\u001b[0;32m    137\u001b[0m \u001b[38;5;28;01mdef\u001b[39;00m \u001b[38;5;21mgetdata\u001b[39m(obj, dtype\u001b[38;5;241m=\u001b[39m\u001b[38;5;28;01mNone\u001b[39;00m, copy\u001b[38;5;241m=\u001b[39m\u001b[38;5;28;01mFalse\u001b[39;00m) \u001b[38;5;241m-\u001b[39m\u001b[38;5;241m>\u001b[39m np\u001b[38;5;241m.\u001b[39mndarray:\n\u001b[0;32m    138\u001b[0m \u001b[38;5;250m    \u001b[39m\u001b[38;5;124;03m\"\"\"\u001b[39;00m\n\u001b[0;32m    139\u001b[0m \u001b[38;5;124;03m    This is a wrapper of `np.array(obj, dtype=dtype, copy=copy)`\u001b[39;00m\n\u001b[0;32m    140\u001b[0m \u001b[38;5;124;03m    that will generate a warning if the result is an object array.\u001b[39;00m\n\u001b[0;32m    141\u001b[0m \u001b[38;5;124;03m    \"\"\"\u001b[39;00m\n\u001b[1;32m--> 142\u001b[0m     data \u001b[38;5;241m=\u001b[39m np\u001b[38;5;241m.\u001b[39marray(obj, dtype\u001b[38;5;241m=\u001b[39mdtype, copy\u001b[38;5;241m=\u001b[39mcopy)\n\u001b[0;32m    143\u001b[0m     \u001b[38;5;66;03m# Defer to getdtype for checking that the dtype is OK.\u001b[39;00m\n\u001b[0;32m    144\u001b[0m     \u001b[38;5;66;03m# This is called for the validation only; we don't need the return value.\u001b[39;00m\n\u001b[0;32m    145\u001b[0m     getdtype(data\u001b[38;5;241m.\u001b[39mdtype)\n",
      "\u001b[1;31mKeyboardInterrupt\u001b[0m: "
     ]
    }
   ],
   "source": [
    "# g=1.75; 2/(10/20/g)\n",
    "# 1/(g**3/8)\n",
    "\n",
    "# for lettera in ['D']:\n",
    "for lettera in ['A', 'B', 'C']:\n",
    "    nome = f'5{lettera}'; gome = nome + 'g'\n",
    "    gbs[nome] = run(gome, dict(figura='5', lettera=lettera, grid_scale=1.75), dict(ks=1, tol=1e-15));\n",
    "    pbs[nome] = run(nome, dict(figura='5', lettera=lettera, grid_scale=3.00), dict(ks=1, tol=1e-15));\n",
    "    eigs[nome] = co.pkl(dict(cartella='../simulazioni/eig_vg15', nome=nome), eig=1)\n",
    "    gigs[nome] = co.pkl(dict(cartella='../simulazioni/eig_vg15', nome=gome), eig=1)"
   ]
  },
  {
   "cell_type": "code",
   "execution_count": null,
   "id": "91934663",
   "metadata": {},
   "outputs": [],
   "source": [
    "for lettera in ['A', 'B', 'B^', 'B^^', 'C']:\n",
    "    nome = f'6{lettera}'; gome = nome + 'g'\n",
    "    pb = run(nome, dict(figura='6', lettera=lettera, grid_scale=2.00), dict(ks=1, tol=1e-15, k=14));\n",
    "    gb = run(gome, dict(figura='6', lettera=lettera, grid_scale=1.75), dict(ks=1, tol=1e-15, k=8));\n",
    "    eigs[nome] = co.pkl(dict(cartella='../simulazioni/eig_vg15', nome=nome), eig=1)\n",
    "    gigs[nome] = co.pkl(dict(cartella='../simulazioni/eig_vg15', nome=gome), eig=1)\n"
   ]
  },
  {
   "cell_type": "code",
   "execution_count": null,
   "id": "add4fe9f",
   "metadata": {},
   "outputs": [],
   "source": [
    "for figura in ['9a', '9b']:\n",
    "    for lettera in ['A', 'B', 'C_', 'C', 'D', 'E', 'F']:\n",
    "        if figura == '9b' and lettera == 'C_': continue\n",
    "        nome = f'{figura}{lettera}'\n",
    "        pbs[nome] = run(nome, dict(figura=figura, lettera=lettera, grid_scale=2.50), dict(ks=1, tol=1e-15));\n",
    "        eigs[nome] = co.pkl(dict(cartella='../simulazioni/eig_vg15', nome=nome), eig=1)"
   ]
  },
  {
   "cell_type": "code",
   "execution_count": null,
   "id": "06a3e18d",
   "metadata": {},
   "outputs": [],
   "source": [
    "# tabella = [\n",
    "#     { nome: nome } |\n",
    "#     { f'lambda_{j}': eigs[nome].vals[j] for j,val in enumerate(} for \n",
    "\n",
    "k = 8\n",
    "\n",
    "nomi = [ nome for nome in eigs.keys() ]\n",
    "# nomi = [ nome for nome in eigs.keys() if nome in gigs.keys() ]\n",
    "def err_rel_griglia(nome):\n",
    "    if not nome in gigs.keys(): return [0]\n",
    "    \n",
    "    vals = eigs[nome].vals\n",
    "    gals = gigs[nome].vals\n",
    "    err_rel = 1 - gals[:k]/vals[:k]\n",
    "    return np.abs(err_rel)\n",
    "\n",
    "tabella = [\n",
    "    { 'nome': nome } | \n",
    "#     { f'l{i}': val for i,val in enumerate(pbs[nome]._eig.vals) }\n",
    "    { f'l{j}': eigs[nome].vals[j] for j in range(k) } |\n",
    "#     { f'eg{j}': err_rel_griglia(nome)[j] for j in range(k) } |\n",
    "    {\n",
    "        'eps': np.linalg.norm([eigs[nome].err_rel[i] for i in range(5)], np.inf),\n",
    "#         'eps_g': np.linalg.norm(err_rel_griglia(nome), np.inf),\n",
    "#         'dof/dofg': eigs[nome].funs.shape[0] / gigs[nome].funs.shape[0],\n",
    "        'dof': int(eigs[nome].funs.shape[0]), \n",
    "        'mv': eigs[nome].matvec_count,\n",
    "    }\n",
    "    for nome in nomi\n",
    "]\n",
    " \n",
    "print(tabulate(tabella, floatfmt='.2f', headers='keys'))"
   ]
  },
  {
   "cell_type": "code",
   "execution_count": null,
   "id": "87bd9445",
   "metadata": {},
   "outputs": [],
   "source": [
    "for nome,eig in eigs.items():\n",
    "    print(f'{nome:<5}' + ' '.join([ f'{v:>8.2f}' for v in eig.vals ]))\n",
    "    \n",
    "print('')\n",
    "for nome,eig in gigs.items():\n",
    "    print(f'{nome:<5}' + ' '.join([ f'{v:>8.2f}' for v in eig.vals ]))"
   ]
  },
  {
   "cell_type": "code",
   "execution_count": null,
   "id": "03555218",
   "metadata": {},
   "outputs": [],
   "source": [
    "def peigs(eig, axs):\n",
    "    for i,ax in enumerate(axs.flatten()):\n",
    "        img = Image.open(f'../immagini/paraview/{nome}_{i}.png')\n",
    "        ax.imshow(img, extent=[0, 1, 0, 1])\n",
    "        val = eig.vals[i]\n",
    "        bbox = dict(facecolor='white', boxstyle='square,pad=0.3', edgecolor='black' if val > 0 else 'lightgrey')\n",
    "        ax.text(1, 0, r'$\\lambda_{%d}$ = %.2f' % (i+1, val), fontsize='small', va='bottom', ha='right', bbox=bbox)"
   ]
  },
  {
   "cell_type": "code",
   "execution_count": null,
   "id": "ddfd9fcf",
   "metadata": {},
   "outputs": [],
   "source": [
    "nome = f'5C'\n",
    "fig,axs = plt.subplots(2,4, figsize=(linewidth, linewidth/4*2*1.03), subplot_kw=dict(xticks=[], yticks=[]))\n",
    "peigs(eigs[nome], axs)\n",
    "fig.tight_layout(pad=0.6)\n",
    "fig.savefig(f'../immagini/vg15_{nome}.png', transparent=1, bbox_inches='tight')"
   ]
  },
  {
   "cell_type": "code",
   "execution_count": null,
   "id": "7682a1a5",
   "metadata": {},
   "outputs": [],
   "source": [
    "nome = '6B^'\n",
    "fig,axs = plt.subplots(2,2, figsize=(linewidth*.5, linewidth*.5/2*2*.99), subplot_kw=dict(xticks=[], yticks=[]))\n",
    "peigs(eigs[nome], axs.flatten())\n",
    "\n",
    "for mm in ['bottom', 'top', 'right', 'left']: \n",
    "    axs[1,0].spines[mm].set_color('#ff6d6d')\n",
    "    axs[1,0].spines[mm].set_linewidth(2.3)\n",
    "\n",
    "for mm in ['bottom', 'top', 'right', 'left']:\n",
    "    for ax in [ axs[0,0], axs[0,1] ]:\n",
    "        ax.spines[mm].set_color('#729fcf')\n",
    "        ax.spines[mm].set_linewidth(2.3)\n",
    "\n",
    "    \n",
    "fig.tight_layout(pad=0.45)\n",
    "fig.savefig(f'../immagini/vg15_{nome}.png', **sf_kw|dict(pad_inches=0.05))"
   ]
  },
  {
   "cell_type": "code",
   "execution_count": null,
   "id": "bc494201",
   "metadata": {},
   "outputs": [],
   "source": [
    "nome = '6C'\n",
    "fig,axs = plt.subplots(3,5, figsize=(linewidth, linewidth/5*3*1.03), subplot_kw=dict(xticks=[], yticks=[]))\n",
    "peigs(eigs[nome], axs.flatten()[:14])\n",
    "axs.flatten()[14].set_axis_off()\n",
    "fig.tight_layout(pad=0.6)\n",
    "fig.savefig(f'../immagini/vg15_{nome}.png', transparent=1, bbox_inches='tight')"
   ]
  },
  {
   "cell_type": "code",
   "execution_count": null,
   "id": "b73a9c66",
   "metadata": {},
   "outputs": [],
   "source": [
    "nome = '9aD'\n",
    "fig,axs = plt.subplots(2,2, figsize=(linewidth*.5, linewidth*.5/2*2*.99), subplot_kw=dict(xticks=[], yticks=[]))\n",
    "peigs(eigs[nome], axs.flatten())\n",
    "\n",
    "for mm in ['bottom', 'top', 'right', 'left']: \n",
    "    axs[1,0].spines[mm].set_color('#ff6d6d')\n",
    "    axs[1,0].spines[mm].set_linewidth(2.3)\n",
    "\n",
    "for mm in ['bottom', 'top', 'right', 'left']:\n",
    "    for ax in [ axs[0,0], axs[0,1] ]:\n",
    "        ax.spines[mm].set_color('#729fcf')\n",
    "        ax.spines[mm].set_linewidth(2.3)\n",
    "\n",
    "\n",
    "fig.tight_layout(pad=0.4)\n",
    "# fig.savefig(f'../immagini/vg15_{nome}.png', **sf_kw|dict(pad_inches=0.05))"
   ]
  },
  {
   "cell_type": "code",
   "execution_count": null,
   "id": "cc04122e",
   "metadata": {},
   "outputs": [],
   "source": [
    "nome = '9bF'\n",
    "fig,axs = plt.subplots(2,4, figsize=(linewidth, linewidth/4*2*1.03), subplot_kw=dict(xticks=[], yticks=[]))\n",
    "peigs(eigs[nome], axs)\n",
    "fig.tight_layout(pad=0.6)\n",
    "fig.savefig(f'../immagini/vg15_{nome}.png', transparent=1, bbox_inches='tight')"
   ]
  },
  {
   "cell_type": "code",
   "execution_count": null,
   "id": "ebee9378",
   "metadata": {},
   "outputs": [],
   "source": [
    "# %run /home/arash/src/ddf/paraview/meig.py"
   ]
  },
  {
   "cell_type": "code",
   "execution_count": null,
   "id": "7864af2a",
   "metadata": {},
   "outputs": [],
   "source": [
    "# nome = '6B^'\n",
    "nome = '9aC'\n",
    "fig,axs = plt.subplots(2,4, figsize=(linewidth, linewidth/4*2*1.03), subplot_kw=dict(xticks=[], yticks=[]))\n",
    "peigs(eigs[nome], axs)\n",
    "fig.tight_layout(pad=0.6)\n",
    "# fig.savefig(f'../immagini/vg15_{nome}.png', transparent=1, bbox_inches='tight')"
   ]
  },
  {
   "cell_type": "code",
   "execution_count": null,
   "id": "50baee08",
   "metadata": {},
   "outputs": [],
   "source": [
    "nome = '6B^^'\n",
    "fig,axs = plt.subplots(2,4, figsize=(linewidth, linewidth/4*2*1.03), subplot_kw=dict(xticks=[], yticks=[]))\n",
    "peigs(eigs[nome], axs)\n",
    "fig.tight_layout(pad=0.6)\n",
    "fig.savefig(f'../immagini/vg15_{nome}.png', transparent=1, bbox_inches='tight')"
   ]
  },
  {
   "cell_type": "code",
   "execution_count": null,
   "id": "254ea6bc",
   "metadata": {},
   "outputs": [],
   "source": [
    "fig,axs = plt.subplots(1,2, figsize=(linewidth/2, linewidth/2/2), subplot_kw=dict(xticks=[], yticks=[]))\n",
    "e = co.pkl(dict(cartella='../simulazioni/eig_vg15', nome='5A'), eig=1); peigs(e, np.array([ axs[0] ]))\n",
    "e = co.pkl(dict(cartella='../simulazioni/eig_vg15', nome='5B'), eig=1); peigs(e, np.array([ axs[1] ]))\n",
    "fig.tight_layout(pad=0.3)\n",
    "fig.savefig('../immagini/vg15_5.png', **sf_kw|dict(pad_inches=0.05))"
   ]
  },
  {
   "cell_type": "code",
   "execution_count": null,
   "id": "a53afeb6",
   "metadata": {},
   "outputs": [],
   "source": [
    "fig,axs = plt.subplots(1,2, figsize=(linewidth/2, linewidth/2/2), subplot_kw=dict(xticks=[], yticks=[]))\n",
    "e = co.pkl(dict(cartella='../simulazioni/eig_vg15', nome='6A'), eig=1); peigs(e, np.array([ axs[0] ]))\n",
    "e = co.pkl(dict(cartella='../simulazioni/eig_vg15', nome='6B'), eig=1); peigs(e, np.array([ axs[1] ]))\n",
    "fig.tight_layout(pad=0.3)\n",
    "fig.savefig('../immagini/vg15_6.png', **sf_kw|dict(pad_inches=0.05))"
   ]
  },
  {
   "cell_type": "code",
   "execution_count": null,
   "id": "1025fe36",
   "metadata": {},
   "outputs": [],
   "source": [
    "fig,axs = plt.subplots(1,2, figsize=(linewidth/2, linewidth/2/2), subplot_kw=dict(xticks=[], yticks=[]))\n",
    "peigs(eigs['9aB'], np.array([ axs[0] ]))\n",
    "peigs(eigs['9aC'], np.array([ axs[1] ]))\n",
    "fig.tight_layout(pad=0.3)\n",
    "fig.savefig('../immagini/vg15_9a.png', **sf_kw)"
   ]
  },
  {
   "cell_type": "code",
   "execution_count": null,
   "id": "1563b898",
   "metadata": {},
   "outputs": [],
   "source": [
    "fig,axs = plt.subplots(1,2, figsize=(linewidth/2, linewidth/2/2), subplot_kw=dict(xticks=[], yticks=[]))\n",
    "peigs(eigs['9bB'], np.array([ axs[0] ]))\n",
    "peigs(eigs['9bC'], np.array([ axs[1] ]))\n",
    "fig.tight_layout(pad=0.3)\n",
    "fig.savefig('../immagini/vg15_9b.png', **sf_kw)"
   ]
  },
  {
   "cell_type": "code",
   "execution_count": null,
   "id": "ff954502",
   "metadata": {},
   "outputs": [],
   "source": [
    "raise"
   ]
  },
  {
   "cell_type": "code",
   "execution_count": null,
   "id": "42ae2c78",
   "metadata": {},
   "outputs": [],
   "source": [
    "pb = run('quadrata_semplice', dict(figura='5', lettera='D', grid_scale=2.0, tipo_griglia='quadrata'), dict(ks=1, tol=1e-15), dict(newton_atol=1e-12));\n",
    "# pb = run('triangolare_semplice', dict(figura='5', lettera='D', grid_scale=1.0, tipo_griglia='triangolare'), dict(ks=1, tol=1e-15), dict(newton_atol=1e-13));\n",
    "# pb = run('triangolare_vicinanza', dict(figura='5', lettera='D', grid_scale=1.0, tipo_griglia='triangolare'), dict(ks=1, tol=1e-15), dict(newton_atol=1e-13));\n",
    "# pb = run('triangolare_volumi', dict(figura='5', lettera='D', grid_scale=1.0, tipo_griglia='triangolare'), dict(ks=1, tol=1e-15), dict(newton_atol=1e-13));"
   ]
  },
  {
   "cell_type": "code",
   "execution_count": null,
   "id": "cc34ed04",
   "metadata": {},
   "outputs": [],
   "source": [
    "pb = run('triangolare_semplice', dict(figura='5', lettera='D', grid_scale=1.0, tipo_griglia='triangolare'), dict(ks=1, tol=1e-15), dict(newton_atol=1e-13));"
   ]
  },
  {
   "cell_type": "code",
   "execution_count": null,
   "id": "758f0a8d",
   "metadata": {},
   "outputs": [],
   "source": [
    "pb = run('triangolare_volumi', dict(figura='5', lettera='D', grid_scale=1.0, tipo_griglia='triangolare'), dict(ks=1, tol=1e-15), dict(newton_atol=1e-12));"
   ]
  },
  {
   "cell_type": "code",
   "execution_count": null,
   "id": "aeac925b",
   "metadata": {},
   "outputs": [],
   "source": [
    "pb = co.pkl(dict(cartella='../simulazioni/eig_vg15', nome='6C'))\n",
    "ks = DKS(pb.eig_ops().S, 8, 64, b=pb._M.diagonal(), tol=1e-15)\n",
    "ks.itera(maxmv=10_000, log_freq=1, pkl_path=f'{pb.cartella_out}/eig_ks.gz')\n",
    "\n",
    "_,funs = ks.eig(completi=1)\n",
    "funs = funs[:,:ks.l]\n",
    "assert np.allclose(np.imag(funs), 0)\n",
    "funs = np.real(funs)\n",
    "pb.eig_post(funs)"
   ]
  },
  {
   "cell_type": "code",
   "execution_count": null,
   "id": "6af436cf",
   "metadata": {},
   "outputs": [],
   "source": [
    "qbs[nome]._ks.errori(completi=1)"
   ]
  },
  {
   "cell_type": "code",
   "execution_count": null,
   "id": "05b4dd9b",
   "metadata": {},
   "outputs": [],
   "source": [
    "_,funs = ks.eig(completi=1)\n",
    "funs = funs[:,:ks.l]\n",
    "assert np.allclose(np.imag(funs), 0)\n",
    "funs = np.real(funs)\n",
    "pb.eig_post(funs)\n",
    "pb.esporta(stato=1, pkl=1)"
   ]
  },
  {
   "cell_type": "code",
   "execution_count": null,
   "id": "bb1863d6",
   "metadata": {},
   "outputs": [],
   "source": []
  },
  {
   "cell_type": "code",
   "execution_count": null,
   "id": "198a965e",
   "metadata": {},
   "outputs": [],
   "source": [
    "vals,funs = ks.eig(completi=1)\n",
    "pb.eig_post(funs)\n",
    "pb.esporta(stato=1, pkl=1)"
   ]
  },
  {
   "cell_type": "code",
   "execution_count": null,
   "id": "e70b460d",
   "metadata": {},
   "outputs": [],
   "source": [
    "nome = '5B'\n",
    "vals = np.stack(( gbs[nome]._eig.vals, pbs[nome]._eig.vals, fbs[nome]._eig.vals ))\n",
    "for i in range(3): plt.scatter( np.arange(8), vals[i] )"
   ]
  }
 ],
 "metadata": {
  "kernelspec": {
   "display_name": "Python 3 (ipykernel)",
   "language": "python",
   "name": "python3"
  },
  "language_info": {
   "codemirror_mode": {
    "name": "ipython",
    "version": 3
   },
   "file_extension": ".py",
   "mimetype": "text/x-python",
   "name": "python",
   "nbconvert_exporter": "python",
   "pygments_lexer": "ipython3",
   "version": "3.12.8"
  }
 },
 "nbformat": 4,
 "nbformat_minor": 5
}
